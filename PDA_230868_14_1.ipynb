{
 "cells": [
  {
   "cell_type": "code",
   "execution_count": 1,
   "id": "244640b7-471d-4d4e-b0d1-2a80fdf8420c",
   "metadata": {},
   "outputs": [
    {
     "data": {
      "text/html": [
       "<div>\n",
       "<style scoped>\n",
       "    .dataframe tbody tr th:only-of-type {\n",
       "        vertical-align: middle;\n",
       "    }\n",
       "\n",
       "    .dataframe tbody tr th {\n",
       "        vertical-align: top;\n",
       "    }\n",
       "\n",
       "    .dataframe thead th {\n",
       "        text-align: right;\n",
       "    }\n",
       "</style>\n",
       "<table border=\"1\" class=\"dataframe\">\n",
       "  <thead>\n",
       "    <tr style=\"text-align: right;\">\n",
       "      <th></th>\n",
       "      <th>0</th>\n",
       "      <th>1</th>\n",
       "    </tr>\n",
       "  </thead>\n",
       "  <tbody>\n",
       "    <tr>\n",
       "      <th>0</th>\n",
       "      <td>0</td>\n",
       "      <td>156959</td>\n",
       "    </tr>\n",
       "    <tr>\n",
       "      <th>1</th>\n",
       "      <td>0</td>\n",
       "      <td>257228</td>\n",
       "    </tr>\n",
       "    <tr>\n",
       "      <th>2</th>\n",
       "      <td>0</td>\n",
       "      <td>511673</td>\n",
       "    </tr>\n",
       "    <tr>\n",
       "      <th>3</th>\n",
       "      <td>0</td>\n",
       "      <td>515026</td>\n",
       "    </tr>\n",
       "    <tr>\n",
       "      <th>4</th>\n",
       "      <td>0</td>\n",
       "      <td>935083</td>\n",
       "    </tr>\n",
       "    <tr>\n",
       "      <th>...</th>\n",
       "      <td>...</td>\n",
       "      <td>...</td>\n",
       "    </tr>\n",
       "    <tr>\n",
       "      <th>3708289</th>\n",
       "      <td>979324</td>\n",
       "      <td>540493</td>\n",
       "    </tr>\n",
       "    <tr>\n",
       "      <th>3708290</th>\n",
       "      <td>979324</td>\n",
       "      <td>644431</td>\n",
       "    </tr>\n",
       "    <tr>\n",
       "      <th>3708291</th>\n",
       "      <td>979324</td>\n",
       "      <td>816168</td>\n",
       "    </tr>\n",
       "    <tr>\n",
       "      <th>3708292</th>\n",
       "      <td>979324</td>\n",
       "      <td>855646</td>\n",
       "    </tr>\n",
       "    <tr>\n",
       "      <th>3708293</th>\n",
       "      <td>979324</td>\n",
       "      <td>931591</td>\n",
       "    </tr>\n",
       "  </tbody>\n",
       "</table>\n",
       "<p>3708294 rows × 2 columns</p>\n",
       "</div>"
      ],
      "text/plain": [
       "              0       1\n",
       "0             0  156959\n",
       "1             0  257228\n",
       "2             0  511673\n",
       "3             0  515026\n",
       "4             0  935083\n",
       "...         ...     ...\n",
       "3708289  979324  540493\n",
       "3708290  979324  644431\n",
       "3708291  979324  816168\n",
       "3708292  979324  855646\n",
       "3708293  979324  931591\n",
       "\n",
       "[3708294 rows x 2 columns]"
      ]
     },
     "execution_count": 1,
     "metadata": {},
     "output_type": "execute_result"
    }
   ],
   "source": [
    "import pandas as pd\n",
    "import numpy as np\n",
    "import matplotlib.pyplot as plt\n",
    "df_data = pd.read_csv(\"data.csv\",header = None)\n",
    "df_data"
   ]
  },
  {
   "cell_type": "code",
   "execution_count": 2,
   "id": "57395e66-ec99-4321-b48a-b1312d0fc4c3",
   "metadata": {},
   "outputs": [
    {
     "name": "stdout",
     "output_type": "stream",
     "text": [
      "979325\n",
      "3708294\n"
     ]
    }
   ],
   "source": [
    "nodes = set(list(df_data[0]) + list(df_data[1]))\n",
    "N = len(nodes)\n",
    "print(N)\n",
    "print(len(df_data))"
   ]
  },
  {
   "cell_type": "code",
   "execution_count": 3,
   "id": "910f97db-3241-4432-b224-a2f96585421e",
   "metadata": {},
   "outputs": [
    {
     "name": "stdout",
     "output_type": "stream",
     "text": [
      "0\n",
      "146404    4574\n",
      "651712    4143\n",
      "82768     3662\n",
      "115692    3566\n",
      "395947    3555\n",
      "          ... \n",
      "110145       1\n",
      "324850       1\n",
      "324851       1\n",
      "324852       1\n",
      "66018        1\n",
      "Name: count, Length: 903376, dtype: int64\n",
      "1\n",
      "146404    4519\n",
      "395947    3783\n",
      "472127    3368\n",
      "357724    3308\n",
      "651712    3270\n",
      "          ... \n",
      "118365       1\n",
      "586832       1\n",
      "201087       1\n",
      "321505       1\n",
      "340722       1\n",
      "Name: count, Length: 903792, dtype: int64\n"
     ]
    }
   ],
   "source": [
    "k_out = df_data[0].value_counts()\n",
    "k_in = df_data[1].value_counts()\n",
    "print(k_out)\n",
    "print(k_in)"
   ]
  },
  {
   "cell_type": "code",
   "execution_count": 4,
   "id": "fc3f8050-5b6d-4867-ae76-cba10a0f2bf3",
   "metadata": {},
   "outputs": [
    {
     "name": "stdout",
     "output_type": "stream",
     "text": [
      "[156959, 257228, 511673, 515026, 935083]\n",
      "[9077, 83544, 104397, 191282, 258257, 350573, 451081, 635406, 866222, 897911, 941271]\n"
     ]
    }
   ],
   "source": [
    "next_pos_map = df_data.groupby(0)[1].apply(list).to_dict()\n",
    "print(next_pos_map[0])\n",
    "print(next_pos_map[1])"
   ]
  },
  {
   "cell_type": "code",
   "execution_count": 5,
   "id": "6536e383-89c8-45c0-9ae2-aa9503340098",
   "metadata": {},
   "outputs": [
    {
     "data": {
      "text/plain": [
       "1000001"
      ]
     },
     "execution_count": 5,
     "metadata": {},
     "output_type": "execute_result"
    }
   ],
   "source": [
    "rng = np.random.default_rng()\n",
    "path = [0]\n",
    "for _ in range(0,1000000):\n",
    "    pos = path[-1]\n",
    "    if pos in next_pos_map:\n",
    "        npos = next_pos_map[pos]\n",
    "        path += [npos[rng.integers(0,len(npos))]]\n",
    "    else:\n",
    "        path += [rng.integers(0,N)]\n",
    "len(path)"
   ]
  },
  {
   "cell_type": "code",
   "execution_count": 6,
   "id": "9833d5ca-7051-40bf-b184-6fa02a25cfb6",
   "metadata": {},
   "outputs": [
    {
     "data": {
      "text/plain": [
       "146404    0.001194\n",
       "395947    0.001007\n",
       "472127    0.000944\n",
       "651712    0.000887\n",
       "115692    0.000881\n",
       "Name: proportion, dtype: float64"
      ]
     },
     "execution_count": 6,
     "metadata": {},
     "output_type": "execute_result"
    }
   ],
   "source": [
    "pagerank=pd.Series(path).value_counts(normalize=True)\n",
    "pagerank.head()"
   ]
  },
  {
   "cell_type": "code",
   "execution_count": 7,
   "id": "8ab62785-6de1-47a5-8f1d-d82468bf6604",
   "metadata": {},
   "outputs": [
    {
     "data": {
      "image/png": "[encoded data removed]",
      "text/plain": [
       "<Figure size 640x480 with 1 Axes>"
      ]
     },
     "metadata": {},
     "output_type": "display_data"
    }
   ],
   "source": [
    "#cdf\n",
    "x=np.sort(pagerank)\n",
    "y = np.arange(len(x), 0, -1) / len(x)\n",
    "\n",
    "plt.title(\"CDF of Pagerank\")\n",
    "plt.ylabel(\"CDF\")\n",
    "plt.xscale(\"log\")\n",
    "plt.yscale(\"log\")\n",
    "plt.scatter(x, y, label='CDF')\n",
    "plt.legend()\n",
    "plt.savefig(\"PDA_230868_14_1.png\")\n",
    "plt.show()"
   ]
  },
  {
   "cell_type": "code",
   "execution_count": null,
   "id": "9375945a-68bf-45d1-9050-0d7ef35cf8bb",
   "metadata": {},
   "outputs": [],
   "source": []
  }
 ],
 "metadata": {
  "kernelspec": {
   "display_name": "Python 3 (ipykernel)",
   "language": "python",
   "name": "python3"
  },
  "language_info": {
   "codemirror_mode": {
    "name": "ipython",
    "version": 3
   },
   "file_extension": ".py",
   "mimetype": "text/x-python",
   "name": "python",
   "nbconvert_exporter": "python",
   "pygments_lexer": "ipython3",
   "version": "3.12.7"
  }
 },
 "nbformat": 4,
 "nbformat_minor": 5
}
