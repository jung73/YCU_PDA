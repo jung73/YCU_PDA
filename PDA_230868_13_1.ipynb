{
 "cells": [
  {
   "cell_type": "code",
   "execution_count": 1,
   "id": "72fdee3d-ba6e-41f8-9a56-897d251d4b16",
   "metadata": {},
   "outputs": [],
   "source": [
    "import pandas as pd\n",
    "import numpy as np\n",
    "import matplotlib.pyplot as plt\n",
    "from sklearn.linear_model import LinearRegression"
   ]
  },
  {
   "cell_type": "code",
   "execution_count": 2,
   "id": "40b92160-5c68-401a-a9ee-35a25b9049df",
   "metadata": {},
   "outputs": [
    {
     "data": {
      "text/html": [
       "<div>\n",
       "<style scoped>\n",
       "    .dataframe tbody tr th:only-of-type {\n",
       "        vertical-align: middle;\n",
       "    }\n",
       "\n",
       "    .dataframe tbody tr th {\n",
       "        vertical-align: top;\n",
       "    }\n",
       "\n",
       "    .dataframe thead th {\n",
       "        text-align: right;\n",
       "    }\n",
       "</style>\n",
       "<table border=\"1\" class=\"dataframe\">\n",
       "  <thead>\n",
       "    <tr style=\"text-align: right;\">\n",
       "      <th></th>\n",
       "      <th>0</th>\n",
       "      <th>1</th>\n",
       "    </tr>\n",
       "  </thead>\n",
       "  <tbody>\n",
       "    <tr>\n",
       "      <th>0</th>\n",
       "      <td>0</td>\n",
       "      <td>156959</td>\n",
       "    </tr>\n",
       "    <tr>\n",
       "      <th>1</th>\n",
       "      <td>0</td>\n",
       "      <td>257228</td>\n",
       "    </tr>\n",
       "    <tr>\n",
       "      <th>2</th>\n",
       "      <td>0</td>\n",
       "      <td>511673</td>\n",
       "    </tr>\n",
       "    <tr>\n",
       "      <th>3</th>\n",
       "      <td>0</td>\n",
       "      <td>515026</td>\n",
       "    </tr>\n",
       "    <tr>\n",
       "      <th>4</th>\n",
       "      <td>0</td>\n",
       "      <td>935083</td>\n",
       "    </tr>\n",
       "    <tr>\n",
       "      <th>...</th>\n",
       "      <td>...</td>\n",
       "      <td>...</td>\n",
       "    </tr>\n",
       "    <tr>\n",
       "      <th>3708289</th>\n",
       "      <td>979324</td>\n",
       "      <td>540493</td>\n",
       "    </tr>\n",
       "    <tr>\n",
       "      <th>3708290</th>\n",
       "      <td>979324</td>\n",
       "      <td>644431</td>\n",
       "    </tr>\n",
       "    <tr>\n",
       "      <th>3708291</th>\n",
       "      <td>979324</td>\n",
       "      <td>816168</td>\n",
       "    </tr>\n",
       "    <tr>\n",
       "      <th>3708292</th>\n",
       "      <td>979324</td>\n",
       "      <td>855646</td>\n",
       "    </tr>\n",
       "    <tr>\n",
       "      <th>3708293</th>\n",
       "      <td>979324</td>\n",
       "      <td>931591</td>\n",
       "    </tr>\n",
       "  </tbody>\n",
       "</table>\n",
       "<p>3708294 rows × 2 columns</p>\n",
       "</div>"
      ],
      "text/plain": [
       "              0       1\n",
       "0             0  156959\n",
       "1             0  257228\n",
       "2             0  511673\n",
       "3             0  515026\n",
       "4             0  935083\n",
       "...         ...     ...\n",
       "3708289  979324  540493\n",
       "3708290  979324  644431\n",
       "3708291  979324  816168\n",
       "3708292  979324  855646\n",
       "3708293  979324  931591\n",
       "\n",
       "[3708294 rows x 2 columns]"
      ]
     },
     "execution_count": 2,
     "metadata": {},
     "output_type": "execute_result"
    }
   ],
   "source": [
    "df_data = pd.read_csv(\"InterFirmTrade.csv\",header = None)\n",
    "df_data"
   ]
  },
  {
   "cell_type": "code",
   "execution_count": 3,
   "id": "85a5d254-f898-47cc-b5a3-4240159176b4",
   "metadata": {},
   "outputs": [
    {
     "data": {
      "text/plain": [
       "0\n",
       "146404    4574\n",
       "651712    4143\n",
       "82768     3662\n",
       "115692    3566\n",
       "395947    3555\n",
       "          ... \n",
       "110145       1\n",
       "324850       1\n",
       "324851       1\n",
       "324852       1\n",
       "66018        1\n",
       "Name: count, Length: 903376, dtype: int64"
      ]
     },
     "execution_count": 3,
     "metadata": {},
     "output_type": "execute_result"
    }
   ],
   "source": [
    "k_out = df_data[0].value_counts() #出次数\n",
    "k_out"
   ]
  },
  {
   "cell_type": "code",
   "execution_count": 4,
   "id": "1cc89ca8-a770-4482-ac92-66df69d6f993",
   "metadata": {},
   "outputs": [
    {
     "data": {
      "image/png": "[encoded data removed]",
      "text/plain": [
       "<Figure size 640x480 with 1 Axes>"
      ]
     },
     "metadata": {},
     "output_type": "display_data"
    }
   ],
   "source": [
    "#cdf\n",
    "x=np.sort(k_out)\n",
    "y = np.arange(len(x), 0, -1) / len(x)\n",
    "\n",
    "#fitting\n",
    "fit=(x>=10) & (x<1000)\n",
    "part_x = x[fit]\n",
    "part_y = y[fit]\n",
    "log_part_x = np.log(part_x)\n",
    "log_part_y = np.log(part_y)\n",
    "model = LinearRegression()\n",
    "model.fit(log_part_x.reshape(-1,1), log_part_y)\n",
    "\n",
    "x_fit = np.logspace(1, 3, 100)\n",
    "y_fit = np.exp(model.intercept_) * np.power(x_fit,model.coef_[0])\n",
    "\n",
    "plt.title(\"CDF of Out-degree\")\n",
    "plt.ylabel(\"CDF\")\n",
    "plt.xscale(\"log\")\n",
    "plt.yscale(\"log\")\n",
    "plt.scatter(x, y, label='CDF')\n",
    "plt.plot(x_fit, y_fit, label='Fitting',ls=\"--\", color='black')\n",
    "plt.legend()\n",
    "plt.savefig(\"PDA_230868_13_1.png\")\n",
    "plt.show()\n"
   ]
  },
  {
   "cell_type": "code",
   "execution_count": 5,
   "id": "a2abbe04-4dda-4af1-8dbb-415599e32fbd",
   "metadata": {},
   "outputs": [
    {
     "data": {
      "text/plain": [
       "1.2880290770014609"
      ]
     },
     "execution_count": 5,
     "metadata": {},
     "output_type": "execute_result"
    }
   ],
   "source": [
    "gamma_data = -model.coef_[0]\n",
    "gamma_data"
   ]
  },
  {
   "cell_type": "code",
   "execution_count": null,
   "id": "78ab8415-a499-4b3c-a742-77bbfaf15ee9",
   "metadata": {},
   "outputs": [],
   "source": []
  }
 ],
 "metadata": {
  "kernelspec": {
   "display_name": "Python 3 (ipykernel)",
   "language": "python",
   "name": "python3"
  },
  "language_info": {
   "codemirror_mode": {
    "name": "ipython",
    "version": 3
   },
   "file_extension": ".py",
   "mimetype": "text/x-python",
   "name": "python",
   "nbconvert_exporter": "python",
   "pygments_lexer": "ipython3",
   "version": "3.12.7"
  }
 },
 "nbformat": 4,
 "nbformat_minor": 5
}
