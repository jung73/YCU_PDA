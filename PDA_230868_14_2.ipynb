{
 "cells": [
  {
   "cell_type": "code",
   "execution_count": 1,
   "id": "6786f625-144c-4e24-a483-e58cd2a5895d",
   "metadata": {},
   "outputs": [],
   "source": [
    "import pandas as pd\n",
    "import numpy as np\n",
    "import matplotlib.pyplot as plt\n",
    "df_data = pd.read_csv(\"data.csv\",header = None)"
   ]
  },
  {
   "cell_type": "code",
   "execution_count": 2,
   "id": "fa57936e-9c7a-45f3-ad85-7a1181214fab",
   "metadata": {},
   "outputs": [],
   "source": [
    "nodes = set(list(df_data[0]) + list(df_data[1]))\n",
    "N = len(nodes)\n",
    "k_out = df_data[0].value_counts()\n",
    "k_in = df_data[1].value_counts()"
   ]
  },
  {
   "cell_type": "code",
   "execution_count": 3,
   "id": "dcc1d70d-85e1-413d-8461-d82657bd9e6d",
   "metadata": {},
   "outputs": [],
   "source": [
    "df_T = df_data.copy()\n",
    "df_T = df_T.merge(k_out,left_on = 0,right_on = 0)\n",
    "df_T[\"Probability\"] = 1 / df_T[\"count\"]"
   ]
  },
  {
   "cell_type": "code",
   "execution_count": 24,
   "id": "6f4bfd75-264b-4a00-b465-4d89f49738d9",
   "metadata": {},
   "outputs": [],
   "source": [
    "import scipy.sparse as sp\n",
    "row = df_T[0]\n",
    "col = df_T[1]\n",
    "data = df_T[\"Probability\"]\n",
    "T = sp.coo_matrix((data, (row, col)), shape=(N, N)).tocsr()\n",
    "v_u = np.ones(N) / N #一様分布"
   ]
  },
  {
   "cell_type": "code",
   "execution_count": 29,
   "id": "c5472c9b-a08c-43cc-a4c8-89c474a0adae",
   "metadata": {},
   "outputs": [],
   "source": [
    "dangling_nodes=nodes-set(list(df_data[0]))\n",
    "dangling_vec=[1 if i in dangling_nodes else 0 for i in range(0,N)]\n",
    "d=dangling_vec"
   ]
  },
  {
   "cell_type": "code",
   "execution_count": 30,
   "id": "ae557b8c-f9d6-41c7-8724-3aec628ad438",
   "metadata": {},
   "outputs": [
    {
     "name": "stdout",
     "output_type": "stream",
     "text": [
      "Converged.\n"
     ]
    }
   ],
   "source": [
    "def f(p):\n",
    "    prob=p*d\n",
    "    return p@T + prob.sum() *v_u\n",
    "p = np.ones(N)/N\n",
    "converged=False\n",
    "for _ in range(0,1000):\n",
    "    p_prev=p.copy()\n",
    "    p=f(p)\n",
    "    err=np.abs(p-p_prev).max()\n",
    "    if err<1e-10:\n",
    "        converged=True\n",
    "        PageRank=pd.Series(p)\n",
    "        break\n",
    "\n",
    "print(\"Converged.\" if converged else \"\")"
   ]
  },
  {
   "cell_type": "code",
   "execution_count": 31,
   "id": "d479131a-0fa0-4479-bc40-e942c7cebff1",
   "metadata": {},
   "outputs": [
    {
     "data": {
      "text/plain": [
       "1.0000000000000002"
      ]
     },
     "execution_count": 31,
     "metadata": {},
     "output_type": "execute_result"
    }
   ],
   "source": [
    "PageRank.sum()"
   ]
  },
  {
   "cell_type": "code",
   "execution_count": 32,
   "id": "9fc16f94-e4b8-4711-a53b-abb502cd9036",
   "metadata": {},
   "outputs": [
    {
     "name": "stdout",
     "output_type": "stream",
     "text": [
      "1.0\n",
      "0.9999999999999989\n",
      "1.0000000000000002\n"
     ]
    }
   ],
   "source": [
    "v_0 = np.zeros(N)\n",
    "v_0[0] = 1 #i=0 のみ 1\n",
    "v_24 = np.zeros(N)\n",
    "v_24[24] = 1 #i=24 のみ 1\n",
    "\n",
    "print(f(v_0).sum())\n",
    "print(f(v_24).sum())\n",
    "print(f(v_u).sum())"
   ]
  },
  {
   "cell_type": "code",
   "execution_count": 34,
   "id": "a1f8b1be-c47d-4080-b20d-a766e3d9d5c8",
   "metadata": {},
   "outputs": [
    {
     "data": {
      "image/png": "[encoded data removed]",
      "text/plain": [
       "<Figure size 640x480 with 1 Axes>"
      ]
     },
     "metadata": {},
     "output_type": "display_data"
    }
   ],
   "source": [
    "pagerank=pd.Series(p).value_counts(normalize=True)\n",
    "pagerank.head()\n",
    "\n",
    "x=np.sort(pagerank)\n",
    "y = np.arange(len(x), 0, -1) / len(x)\n",
    "\n",
    "plt.title(\"CDF of Pagerank\")\n",
    "plt.ylabel(\"CDF\")\n",
    "plt.xscale(\"log\")\n",
    "plt.yscale(\"log\")\n",
    "plt.scatter(x, y, label='CDF')\n",
    "plt.legend()\n",
    "plt.savefig(\"PDA_230868_14_2.png\")\n",
    "plt.show()"
   ]
  },
  {
   "cell_type": "code",
   "execution_count": null,
   "id": "9e32232e-e00f-48b5-8099-73cd2ac81f65",
   "metadata": {},
   "outputs": [],
   "source": []
  }
 ],
 "metadata": {
  "kernelspec": {
   "display_name": "Python 3 (ipykernel)",
   "language": "python",
   "name": "python3"
  },
  "language_info": {
   "codemirror_mode": {
    "name": "ipython",
    "version": 3
   },
   "file_extension": ".py",
   "mimetype": "text/x-python",
   "name": "python",
   "nbconvert_exporter": "python",
   "pygments_lexer": "ipython3",
   "version": "3.12.7"
  }
 },
 "nbformat": 4,
 "nbformat_minor": 5
}
