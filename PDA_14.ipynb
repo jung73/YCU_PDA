{
 "cells": [
  {
   "cell_type": "code",
   "execution_count": 1,
   "id": "cbe827b4-2421-4c97-a60f-2bc27a52c72e",
   "metadata": {},
   "outputs": [
    {
     "data": {
      "text/html": [
       "<div>\n",
       "<style scoped>\n",
       "    .dataframe tbody tr th:only-of-type {\n",
       "        vertical-align: middle;\n",
       "    }\n",
       "\n",
       "    .dataframe tbody tr th {\n",
       "        vertical-align: top;\n",
       "    }\n",
       "\n",
       "    .dataframe thead th {\n",
       "        text-align: right;\n",
       "    }\n",
       "</style>\n",
       "<table border=\"1\" class=\"dataframe\">\n",
       "  <thead>\n",
       "    <tr style=\"text-align: right;\">\n",
       "      <th></th>\n",
       "      <th>0</th>\n",
       "      <th>1</th>\n",
       "    </tr>\n",
       "  </thead>\n",
       "  <tbody>\n",
       "    <tr>\n",
       "      <th>0</th>\n",
       "      <td>0</td>\n",
       "      <td>156959</td>\n",
       "    </tr>\n",
       "    <tr>\n",
       "      <th>1</th>\n",
       "      <td>0</td>\n",
       "      <td>257228</td>\n",
       "    </tr>\n",
       "    <tr>\n",
       "      <th>2</th>\n",
       "      <td>0</td>\n",
       "      <td>511673</td>\n",
       "    </tr>\n",
       "    <tr>\n",
       "      <th>3</th>\n",
       "      <td>0</td>\n",
       "      <td>515026</td>\n",
       "    </tr>\n",
       "    <tr>\n",
       "      <th>4</th>\n",
       "      <td>0</td>\n",
       "      <td>935083</td>\n",
       "    </tr>\n",
       "    <tr>\n",
       "      <th>...</th>\n",
       "      <td>...</td>\n",
       "      <td>...</td>\n",
       "    </tr>\n",
       "    <tr>\n",
       "      <th>3708289</th>\n",
       "      <td>979324</td>\n",
       "      <td>540493</td>\n",
       "    </tr>\n",
       "    <tr>\n",
       "      <th>3708290</th>\n",
       "      <td>979324</td>\n",
       "      <td>644431</td>\n",
       "    </tr>\n",
       "    <tr>\n",
       "      <th>3708291</th>\n",
       "      <td>979324</td>\n",
       "      <td>816168</td>\n",
       "    </tr>\n",
       "    <tr>\n",
       "      <th>3708292</th>\n",
       "      <td>979324</td>\n",
       "      <td>855646</td>\n",
       "    </tr>\n",
       "    <tr>\n",
       "      <th>3708293</th>\n",
       "      <td>979324</td>\n",
       "      <td>931591</td>\n",
       "    </tr>\n",
       "  </tbody>\n",
       "</table>\n",
       "<p>3708294 rows × 2 columns</p>\n",
       "</div>"
      ],
      "text/plain": [
       "              0       1\n",
       "0             0  156959\n",
       "1             0  257228\n",
       "2             0  511673\n",
       "3             0  515026\n",
       "4             0  935083\n",
       "...         ...     ...\n",
       "3708289  979324  540493\n",
       "3708290  979324  644431\n",
       "3708291  979324  816168\n",
       "3708292  979324  855646\n",
       "3708293  979324  931591\n",
       "\n",
       "[3708294 rows x 2 columns]"
      ]
     },
     "execution_count": 1,
     "metadata": {},
     "output_type": "execute_result"
    }
   ],
   "source": [
    "import pandas as pd\n",
    "import numpy as np\n",
    "import matplotlib.pyplot as plt\n",
    "df_data = pd.read_csv(\"data.csv\",header = None)\n",
    "df_data"
   ]
  },
  {
   "cell_type": "code",
   "execution_count": 3,
   "id": "1894a229-a1f1-4f43-b79d-ab8acf1f6a63",
   "metadata": {},
   "outputs": [
    {
     "name": "stdout",
     "output_type": "stream",
     "text": [
      "979325\n",
      "3708294\n"
     ]
    }
   ],
   "source": [
    "nodes = set(list(df_data[0]) + list(df_data[1]))\n",
    "N = len(nodes)\n",
    "print(N)\n",
    "print(len(df_data))"
   ]
  },
  {
   "cell_type": "code",
   "execution_count": 4,
   "id": "9631b197-78b3-411d-9493-f50515cdd13c",
   "metadata": {},
   "outputs": [
    {
     "name": "stdout",
     "output_type": "stream",
     "text": [
      "0\n",
      "146404    4574\n",
      "651712    4143\n",
      "82768     3662\n",
      "115692    3566\n",
      "395947    3555\n",
      "          ... \n",
      "110145       1\n",
      "324850       1\n",
      "324851       1\n",
      "324852       1\n",
      "66018        1\n",
      "Name: count, Length: 903376, dtype: int64\n",
      "1\n",
      "146404    4519\n",
      "395947    3783\n",
      "472127    3368\n",
      "357724    3308\n",
      "651712    3270\n",
      "          ... \n",
      "118365       1\n",
      "586832       1\n",
      "201087       1\n",
      "321505       1\n",
      "340722       1\n",
      "Name: count, Length: 903792, dtype: int64\n"
     ]
    }
   ],
   "source": [
    "k_out = df_data[0].value_counts()\n",
    "k_in = df_data[1].value_counts()\n",
    "print(k_out)\n",
    "print(k_in)"
   ]
  },
  {
   "cell_type": "code",
   "execution_count": 5,
   "id": "2ab6e687-3b15-43cd-b4da-ac54e0c45bff",
   "metadata": {},
   "outputs": [
    {
     "name": "stdout",
     "output_type": "stream",
     "text": [
      "[156959, 257228, 511673, 515026, 935083]\n",
      "[9077, 83544, 104397, 191282, 258257, 350573, 451081, 635406, 866222, 897911, 941271]\n"
     ]
    }
   ],
   "source": [
    "next_pos_map = df_data.groupby(0)[1].apply(list).to_dict()\n",
    "print(next_pos_map[0])\n",
    "print(next_pos_map[1])"
   ]
  },
  {
   "cell_type": "code",
   "execution_count": 7,
   "id": "1de86783-530b-493c-ac09-961a8f153ded",
   "metadata": {},
   "outputs": [
    {
     "data": {
      "text/plain": [
       "1001"
      ]
     },
     "execution_count": 7,
     "metadata": {},
     "output_type": "execute_result"
    }
   ],
   "source": [
    "rng = np.random.default_rng()\n",
    "path = [0]\n",
    "for _ in range(0,1000):\n",
    "    pos = path[-1]\n",
    "    if pos in next_pos_map:\n",
    "        npos = next_pos_map[pos]\n",
    "        path += [npos[rng.integers(0,len(npos))]]\n",
    "    else:\n",
    "        path += [rng.integers(0,N)]\n",
    "len(path)"
   ]
  },
  {
   "cell_type": "code",
   "execution_count": 8,
   "id": "1101a629-5f3a-4a0e-867f-029253646084",
   "metadata": {},
   "outputs": [
    {
     "data": {
      "text/html": [
       "<div>\n",
       "<style scoped>\n",
       "    .dataframe tbody tr th:only-of-type {\n",
       "        vertical-align: middle;\n",
       "    }\n",
       "\n",
       "    .dataframe tbody tr th {\n",
       "        vertical-align: top;\n",
       "    }\n",
       "\n",
       "    .dataframe thead th {\n",
       "        text-align: right;\n",
       "    }\n",
       "</style>\n",
       "<table border=\"1\" class=\"dataframe\">\n",
       "  <thead>\n",
       "    <tr style=\"text-align: right;\">\n",
       "      <th></th>\n",
       "      <th>0</th>\n",
       "      <th>1</th>\n",
       "      <th>count</th>\n",
       "      <th>Probability</th>\n",
       "    </tr>\n",
       "  </thead>\n",
       "  <tbody>\n",
       "    <tr>\n",
       "      <th>0</th>\n",
       "      <td>0</td>\n",
       "      <td>156959</td>\n",
       "      <td>5</td>\n",
       "      <td>0.2</td>\n",
       "    </tr>\n",
       "    <tr>\n",
       "      <th>1</th>\n",
       "      <td>0</td>\n",
       "      <td>257228</td>\n",
       "      <td>5</td>\n",
       "      <td>0.2</td>\n",
       "    </tr>\n",
       "    <tr>\n",
       "      <th>2</th>\n",
       "      <td>0</td>\n",
       "      <td>511673</td>\n",
       "      <td>5</td>\n",
       "      <td>0.2</td>\n",
       "    </tr>\n",
       "    <tr>\n",
       "      <th>3</th>\n",
       "      <td>0</td>\n",
       "      <td>515026</td>\n",
       "      <td>5</td>\n",
       "      <td>0.2</td>\n",
       "    </tr>\n",
       "    <tr>\n",
       "      <th>4</th>\n",
       "      <td>0</td>\n",
       "      <td>935083</td>\n",
       "      <td>5</td>\n",
       "      <td>0.2</td>\n",
       "    </tr>\n",
       "    <tr>\n",
       "      <th>...</th>\n",
       "      <td>...</td>\n",
       "      <td>...</td>\n",
       "      <td>...</td>\n",
       "      <td>...</td>\n",
       "    </tr>\n",
       "    <tr>\n",
       "      <th>3708289</th>\n",
       "      <td>979324</td>\n",
       "      <td>540493</td>\n",
       "      <td>10</td>\n",
       "      <td>0.1</td>\n",
       "    </tr>\n",
       "    <tr>\n",
       "      <th>3708290</th>\n",
       "      <td>979324</td>\n",
       "      <td>644431</td>\n",
       "      <td>10</td>\n",
       "      <td>0.1</td>\n",
       "    </tr>\n",
       "    <tr>\n",
       "      <th>3708291</th>\n",
       "      <td>979324</td>\n",
       "      <td>816168</td>\n",
       "      <td>10</td>\n",
       "      <td>0.1</td>\n",
       "    </tr>\n",
       "    <tr>\n",
       "      <th>3708292</th>\n",
       "      <td>979324</td>\n",
       "      <td>855646</td>\n",
       "      <td>10</td>\n",
       "      <td>0.1</td>\n",
       "    </tr>\n",
       "    <tr>\n",
       "      <th>3708293</th>\n",
       "      <td>979324</td>\n",
       "      <td>931591</td>\n",
       "      <td>10</td>\n",
       "      <td>0.1</td>\n",
       "    </tr>\n",
       "  </tbody>\n",
       "</table>\n",
       "<p>3708294 rows × 4 columns</p>\n",
       "</div>"
      ],
      "text/plain": [
       "              0       1  count  Probability\n",
       "0             0  156959      5          0.2\n",
       "1             0  257228      5          0.2\n",
       "2             0  511673      5          0.2\n",
       "3             0  515026      5          0.2\n",
       "4             0  935083      5          0.2\n",
       "...         ...     ...    ...          ...\n",
       "3708289  979324  540493     10          0.1\n",
       "3708290  979324  644431     10          0.1\n",
       "3708291  979324  816168     10          0.1\n",
       "3708292  979324  855646     10          0.1\n",
       "3708293  979324  931591     10          0.1\n",
       "\n",
       "[3708294 rows x 4 columns]"
      ]
     },
     "execution_count": 8,
     "metadata": {},
     "output_type": "execute_result"
    }
   ],
   "source": [
    "df_T = df_data.copy()\n",
    "df_T = df_T.merge(k_out,left_on = 0,right_on = 0)\n",
    "df_T[\"Probability\"] = 1 / df_T[\"count\"]\n",
    "df_T"
   ]
  },
  {
   "cell_type": "code",
   "execution_count": 10,
   "id": "f0ec2553-4899-42b1-a7c0-837adf24de2c",
   "metadata": {},
   "outputs": [],
   "source": [
    "import scipy.sparse as sp\n",
    "row = df_T[0]\n",
    "col = df_T[1]\n",
    "data = df_T[\"Probability\"]\n",
    "T = sp.coo_matrix((data, (row, col)), shape=(N, N)).tocsr()\n"
   ]
  },
  {
   "cell_type": "code",
   "execution_count": 11,
   "id": "7e35b97d-6556-4083-b4db-7d53faeff1bb",
   "metadata": {},
   "outputs": [
    {
     "name": "stdout",
     "output_type": "stream",
     "text": [
      "Converged.\n"
     ]
    }
   ],
   "source": [
    "def f(p):\n",
    "    return p*T\n",
    "p = np.ones(N)/N\n",
    "converged=False\n",
    "for _ in range(0,1000):\n",
    "    p_prev=p.copy()\n",
    "    p=f(p)\n",
    "    err=np.abs(p-p_prev).max()\n",
    "    if err<1e-10:\n",
    "        converged=True\n",
    "        PageRank=pd.Series(p)\n",
    "        break\n",
    "\n",
    "print(\"Converged.\" if converged else \"\")"
   ]
  },
  {
   "cell_type": "code",
   "execution_count": 12,
   "id": "4fe8df54-e44e-40d4-b98e-0cc00e0baf4d",
   "metadata": {},
   "outputs": [
    {
     "data": {
      "text/plain": [
       "2.2795355025462517e-06"
      ]
     },
     "execution_count": 12,
     "metadata": {},
     "output_type": "execute_result"
    }
   ],
   "source": [
    "PageRank.sum()"
   ]
  },
  {
   "cell_type": "code",
   "execution_count": 13,
   "id": "3fa0c174-b4e5-46fa-b5d4-e9cec97140b8",
   "metadata": {},
   "outputs": [
    {
     "name": "stdout",
     "output_type": "stream",
     "text": [
      "1.0\n",
      "0.0\n",
      "0.9224476042171905\n"
     ]
    }
   ],
   "source": [
    "v_0 = np.zeros(N)\n",
    "v_0[0] = 1 #i=0 のみ 1\n",
    "v_24 = np.zeros(N)\n",
    "v_24[24] = 1 #i=24 のみ 1\n",
    "v_u = np.ones(N) / N #一様分布\n",
    "print(f(v_0).sum())\n",
    "print(f(v_24).sum())\n",
    "print(f(v_u).sum())\n"
   ]
  },
  {
   "cell_type": "code",
   "execution_count": 14,
   "id": "448da144-2912-4799-bbe7-9bc326cceff3",
   "metadata": {},
   "outputs": [
    {
     "name": "stdout",
     "output_type": "stream",
     "text": [
      "0\n",
      "1\n"
     ]
    }
   ],
   "source": [
    "dangling_nodes=nodes-set(list(df_data[0]))\n",
    "dangling_vec=[1 if i in dangling_nodes else 0 for i in range(0,N)]\n",
    "print(dangling_vec[0])\n",
    "print(dangling_vec[24])"
   ]
  },
  {
   "cell_type": "code",
   "execution_count": null,
   "id": "ac8fd9f8-13a7-4902-9853-945bc7b1e726",
   "metadata": {},
   "outputs": [],
   "source": []
  }
 ],
 "metadata": {
  "kernelspec": {
   "display_name": "Python 3 (ipykernel)",
   "language": "python",
   "name": "python3"
  },
  "language_info": {
   "codemirror_mode": {
    "name": "ipython",
    "version": 3
   },
   "file_extension": ".py",
   "mimetype": "text/x-python",
   "name": "python",
   "nbconvert_exporter": "python",
   "pygments_lexer": "ipython3",
   "version": "3.12.7"
  }
 },
 "nbformat": 4,
 "nbformat_minor": 5
}
