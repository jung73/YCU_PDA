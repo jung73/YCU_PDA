{
 "cells": [
  {
   "cell_type": "code",
   "execution_count": 5,
   "id": "717db14e-17f7-4343-9ace-ab8fda306927",
   "metadata": {},
   "outputs": [],
   "source": [
    "import pandas as pd\n",
    "import numpy as np\n",
    "import matplotlib.pyplot as plt\n",
    "import networkx as nx"
   ]
  },
  {
   "cell_type": "code",
   "execution_count": 2,
   "id": "027fcdca-11de-4c3f-8100-36a6f23e59f5",
   "metadata": {},
   "outputs": [
    {
     "data": {
      "text/html": [
       "<div>\n",
       "<style scoped>\n",
       "    .dataframe tbody tr th:only-of-type {\n",
       "        vertical-align: middle;\n",
       "    }\n",
       "\n",
       "    .dataframe tbody tr th {\n",
       "        vertical-align: top;\n",
       "    }\n",
       "\n",
       "    .dataframe thead th {\n",
       "        text-align: right;\n",
       "    }\n",
       "</style>\n",
       "<table border=\"1\" class=\"dataframe\">\n",
       "  <thead>\n",
       "    <tr style=\"text-align: right;\">\n",
       "      <th></th>\n",
       "      <th>0</th>\n",
       "      <th>1</th>\n",
       "    </tr>\n",
       "  </thead>\n",
       "  <tbody>\n",
       "    <tr>\n",
       "      <th>0</th>\n",
       "      <td>0</td>\n",
       "      <td>156959</td>\n",
       "    </tr>\n",
       "    <tr>\n",
       "      <th>1</th>\n",
       "      <td>0</td>\n",
       "      <td>257228</td>\n",
       "    </tr>\n",
       "    <tr>\n",
       "      <th>2</th>\n",
       "      <td>0</td>\n",
       "      <td>511673</td>\n",
       "    </tr>\n",
       "    <tr>\n",
       "      <th>3</th>\n",
       "      <td>0</td>\n",
       "      <td>515026</td>\n",
       "    </tr>\n",
       "    <tr>\n",
       "      <th>4</th>\n",
       "      <td>0</td>\n",
       "      <td>935083</td>\n",
       "    </tr>\n",
       "    <tr>\n",
       "      <th>...</th>\n",
       "      <td>...</td>\n",
       "      <td>...</td>\n",
       "    </tr>\n",
       "    <tr>\n",
       "      <th>3708289</th>\n",
       "      <td>979324</td>\n",
       "      <td>540493</td>\n",
       "    </tr>\n",
       "    <tr>\n",
       "      <th>3708290</th>\n",
       "      <td>979324</td>\n",
       "      <td>644431</td>\n",
       "    </tr>\n",
       "    <tr>\n",
       "      <th>3708291</th>\n",
       "      <td>979324</td>\n",
       "      <td>816168</td>\n",
       "    </tr>\n",
       "    <tr>\n",
       "      <th>3708292</th>\n",
       "      <td>979324</td>\n",
       "      <td>855646</td>\n",
       "    </tr>\n",
       "    <tr>\n",
       "      <th>3708293</th>\n",
       "      <td>979324</td>\n",
       "      <td>931591</td>\n",
       "    </tr>\n",
       "  </tbody>\n",
       "</table>\n",
       "<p>3708294 rows × 2 columns</p>\n",
       "</div>"
      ],
      "text/plain": [
       "              0       1\n",
       "0             0  156959\n",
       "1             0  257228\n",
       "2             0  511673\n",
       "3             0  515026\n",
       "4             0  935083\n",
       "...         ...     ...\n",
       "3708289  979324  540493\n",
       "3708290  979324  644431\n",
       "3708291  979324  816168\n",
       "3708292  979324  855646\n",
       "3708293  979324  931591\n",
       "\n",
       "[3708294 rows x 2 columns]"
      ]
     },
     "execution_count": 2,
     "metadata": {},
     "output_type": "execute_result"
    }
   ],
   "source": [
    "df_data = pd.read_csv(\"InterFirmTrade.csv\",header = None)\n",
    "df_data"
   ]
  },
  {
   "cell_type": "code",
   "execution_count": 4,
   "id": "e8f0332a-c196-440b-a1f1-5ff5e18fca0c",
   "metadata": {},
   "outputs": [
    {
     "name": "stdout",
     "output_type": "stream",
     "text": [
      "979325\n",
      "3708294\n"
     ]
    }
   ],
   "source": [
    "nodes = set(list(df_data[0]) + list(df_data[1]))\n",
    "print(len(nodes)) #nodes sources\n",
    "print(len(df_data)) #link sources"
   ]
  },
  {
   "cell_type": "code",
   "execution_count": 8,
   "id": "da54e333-e5d4-4d53-aed2-aac700baa4fc",
   "metadata": {},
   "outputs": [
    {
     "data": {
      "image/png": "[encoded data removed]",
      "text/plain": [
       "<Figure size 640x480 with 1 Axes>"
      ]
     },
     "metadata": {},
     "output_type": "display_data"
    }
   ],
   "source": [
    "df_B = pd.DataFrame({0:[0,1,2,2],1:[1,2,0,1]}) #start point:0, end point:1\n",
    "G = nx.from_pandas_edgelist(df_B, source=0, target=1, create_using=nx.DiGraph())\n",
    "pos = nx.spring_layout(G, k=0.5)\n",
    "nx.draw(G, pos, with_labels=True)\n",
    "plt.show()\n"
   ]
  },
  {
   "cell_type": "code",
   "execution_count": 13,
   "id": "e67fe9e7-5dfd-4ae7-ab6c-a9efb3806789",
   "metadata": {},
   "outputs": [
    {
     "name": "stdout",
     "output_type": "stream",
     "text": [
      "0\n",
      "146404    4574\n",
      "651712    4143\n",
      "82768     3662\n",
      "115692    3566\n",
      "395947    3555\n",
      "          ... \n",
      "110145       1\n",
      "324850       1\n",
      "324851       1\n",
      "324852       1\n",
      "66018        1\n",
      "Name: count, Length: 903376, dtype: int64\n",
      "1\n",
      "146404    4519\n",
      "395947    3783\n",
      "472127    3368\n",
      "357724    3308\n",
      "651712    3270\n",
      "          ... \n",
      "118365       1\n",
      "586832       1\n",
      "201087       1\n",
      "321505       1\n",
      "340722       1\n",
      "Name: count, Length: 903792, dtype: int64\n"
     ]
    }
   ],
   "source": [
    "k_out = df_data[0].value_counts() #出次数\n",
    "k_in = df_data[1].value_counts() #入次数\n",
    "print(k_out)\n",
    "print(k_in)\n"
   ]
  },
  {
   "cell_type": "code",
   "execution_count": 11,
   "id": "e137a970-e9ae-45d7-8fb3-77bfe279641a",
   "metadata": {},
   "outputs": [
    {
     "data": {
      "text/html": [
       "<div>\n",
       "<style scoped>\n",
       "    .dataframe tbody tr th:only-of-type {\n",
       "        vertical-align: middle;\n",
       "    }\n",
       "\n",
       "    .dataframe tbody tr th {\n",
       "        vertical-align: top;\n",
       "    }\n",
       "\n",
       "    .dataframe thead th {\n",
       "        text-align: right;\n",
       "    }\n",
       "</style>\n",
       "<table border=\"1\" class=\"dataframe\">\n",
       "  <thead>\n",
       "    <tr style=\"text-align: right;\">\n",
       "      <th></th>\n",
       "      <th>0</th>\n",
       "      <th>1</th>\n",
       "    </tr>\n",
       "  </thead>\n",
       "  <tbody>\n",
       "    <tr>\n",
       "      <th>16</th>\n",
       "      <td>2</td>\n",
       "      <td>1750</td>\n",
       "    </tr>\n",
       "    <tr>\n",
       "      <th>21</th>\n",
       "      <td>2</td>\n",
       "      <td>105286</td>\n",
       "    </tr>\n",
       "    <tr>\n",
       "      <th>576961</th>\n",
       "      <td>105286</td>\n",
       "      <td>1750</td>\n",
       "    </tr>\n",
       "  </tbody>\n",
       "</table>\n",
       "</div>"
      ],
      "text/plain": [
       "             0       1\n",
       "16           2    1750\n",
       "21           2  105286\n",
       "576961  105286    1750"
      ]
     },
     "execution_count": 11,
     "metadata": {},
     "output_type": "execute_result"
    }
   ],
   "source": [
    "nodes = set([2,1750,105286])\n",
    "df_part = df_data[df_data[0].isin(nodes) & df_data[1].isin(nodes)]\n",
    "df_part\n",
    "#特定のノードの集合のみからなるリンクを抜き出す"
   ]
  },
  {
   "cell_type": "code",
   "execution_count": 12,
   "id": "ecea89b0-dbfb-42e2-9ddb-991f5c0fddf7",
   "metadata": {},
   "outputs": [
    {
     "data": {
      "text/html": [
       "<div>\n",
       "<style scoped>\n",
       "    .dataframe tbody tr th:only-of-type {\n",
       "        vertical-align: middle;\n",
       "    }\n",
       "\n",
       "    .dataframe tbody tr th {\n",
       "        vertical-align: top;\n",
       "    }\n",
       "\n",
       "    .dataframe thead th {\n",
       "        text-align: right;\n",
       "    }\n",
       "</style>\n",
       "<table border=\"1\" class=\"dataframe\">\n",
       "  <thead>\n",
       "    <tr style=\"text-align: right;\">\n",
       "      <th></th>\n",
       "      <th>0</th>\n",
       "      <th>1</th>\n",
       "    </tr>\n",
       "  </thead>\n",
       "  <tbody>\n",
       "    <tr>\n",
       "      <th>16</th>\n",
       "      <td>2</td>\n",
       "      <td>1750</td>\n",
       "    </tr>\n",
       "    <tr>\n",
       "      <th>17</th>\n",
       "      <td>2</td>\n",
       "      <td>19211</td>\n",
       "    </tr>\n",
       "    <tr>\n",
       "      <th>18</th>\n",
       "      <td>2</td>\n",
       "      <td>94924</td>\n",
       "    </tr>\n",
       "    <tr>\n",
       "      <th>19</th>\n",
       "      <td>2</td>\n",
       "      <td>100743</td>\n",
       "    </tr>\n",
       "    <tr>\n",
       "      <th>20</th>\n",
       "      <td>2</td>\n",
       "      <td>101387</td>\n",
       "    </tr>\n",
       "    <tr>\n",
       "      <th>...</th>\n",
       "      <td>...</td>\n",
       "      <td>...</td>\n",
       "    </tr>\n",
       "    <tr>\n",
       "      <th>3693592</th>\n",
       "      <td>977285</td>\n",
       "      <td>1750</td>\n",
       "    </tr>\n",
       "    <tr>\n",
       "      <th>3697255</th>\n",
       "      <td>977789</td>\n",
       "      <td>1750</td>\n",
       "    </tr>\n",
       "    <tr>\n",
       "      <th>3700524</th>\n",
       "      <td>977944</td>\n",
       "      <td>1750</td>\n",
       "    </tr>\n",
       "    <tr>\n",
       "      <th>3706124</th>\n",
       "      <td>978940</td>\n",
       "      <td>1750</td>\n",
       "    </tr>\n",
       "    <tr>\n",
       "      <th>3707946</th>\n",
       "      <td>979228</td>\n",
       "      <td>1750</td>\n",
       "    </tr>\n",
       "  </tbody>\n",
       "</table>\n",
       "<p>2337 rows × 2 columns</p>\n",
       "</div>"
      ],
      "text/plain": [
       "              0       1\n",
       "16            2    1750\n",
       "17            2   19211\n",
       "18            2   94924\n",
       "19            2  100743\n",
       "20            2  101387\n",
       "...         ...     ...\n",
       "3693592  977285    1750\n",
       "3697255  977789    1750\n",
       "3700524  977944    1750\n",
       "3706124  978940    1750\n",
       "3707946  979228    1750\n",
       "\n",
       "[2337 rows x 2 columns]"
      ]
     },
     "execution_count": 12,
     "metadata": {},
     "output_type": "execute_result"
    }
   ],
   "source": [
    "nodes = set([2,1750,105286])\n",
    "df_part = df_data[df_data[0].isin(nodes) | df_data[1].isin(nodes)]\n",
    "df_part\n",
    "#特定のノードの集合に関わるリンクを抜き出す"
   ]
  },
  {
   "cell_type": "code",
   "execution_count": null,
   "id": "5e0f9367-99a1-4728-9bb7-963a7b6ad038",
   "metadata": {},
   "outputs": [],
   "source": []
  }
 ],
 "metadata": {
  "kernelspec": {
   "display_name": "Python 3 (ipykernel)",
   "language": "python",
   "name": "python3"
  },
  "language_info": {
   "codemirror_mode": {
    "name": "ipython",
    "version": 3
   },
   "file_extension": ".py",
   "mimetype": "text/x-python",
   "name": "python",
   "nbconvert_exporter": "python",
   "pygments_lexer": "ipython3",
   "version": "3.12.7"
  }
 },
 "nbformat": 4,
 "nbformat_minor": 5
}
