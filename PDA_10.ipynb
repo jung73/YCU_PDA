{
 "cells": [
  {
   "cell_type": "code",
   "execution_count": 2,
   "id": "43eeebb7-b32d-4152-ab16-c96c5fb35728",
   "metadata": {},
   "outputs": [],
   "source": [
    "import numpy as np\n",
    "rng = np.random.default_rng()"
   ]
  },
  {
   "cell_type": "code",
   "execution_count": 3,
   "id": "42090abe-feae-4b07-a484-2447497f02e3",
   "metadata": {},
   "outputs": [
    {
     "name": "stdout",
     "output_type": "stream",
     "text": [
      "0.1598058789436112\n",
      "3\n",
      "-0.40198356663109397\n",
      "[-0.037642   -0.15745798  0.14760287  0.64928417 -0.4134395   0.99700697\n",
      "  0.00968646  2.03913994 -1.69063697 -0.50540862]\n"
     ]
    }
   ],
   "source": [
    "x1 = rng.uniform(-1, 1) #一様分布\n",
    "print(x1)\n",
    "x2 = rng.integers(0, 10) #0-9 の整数（等確率）\n",
    "print(x2)\n",
    "x3 = rng.normal(0,1) #正規分布\n",
    "print(x3)\n",
    "x4 = rng.normal(0,1,size=10) #正規分布 10 個\n",
    "print(x4)"
   ]
  },
  {
   "cell_type": "code",
   "execution_count": null,
   "id": "82f0a85e-a51a-47ba-bfda-dfe7ecfd8a29",
   "metadata": {},
   "outputs": [],
   "source": []
  }
 ],
 "metadata": {
  "kernelspec": {
   "display_name": "Python 3 (ipykernel)",
   "language": "python",
   "name": "python3"
  },
  "language_info": {
   "codemirror_mode": {
    "name": "ipython",
    "version": 3
   },
   "file_extension": ".py",
   "mimetype": "text/x-python",
   "name": "python",
   "nbconvert_exporter": "python",
   "pygments_lexer": "ipython3",
   "version": "3.12.7"
  }
 },
 "nbformat": 4,
 "nbformat_minor": 5
}
